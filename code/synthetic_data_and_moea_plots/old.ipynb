{
 "cells": [
  {
   "cell_type": "code",
   "execution_count": 1,
   "metadata": {},
   "outputs": [],
   "source": [
    "##############################################################################################################\n",
    "# make_moea_output_plots.py - python script to create plots for multi-objective optimization outputs\n",
    "# Project started March 2018, last update May 2020\n",
    "##############################################################################################################\n",
    "\n",
    "import numpy as np\n",
    "import pandas as pd\n",
    "import matplotlib.pyplot as plt\n",
    "from matplotlib.pyplot import cm\n",
    "import seaborn as sbn\n",
    "import importlib\n",
    "from datetime import datetime"
   ]
  },
  {
   "cell_type": "code",
   "execution_count": 2,
   "metadata": {},
   "outputs": [
    {
     "name": "stdout",
     "output_type": "stream",
     "text": [
      "Getting runtime metrics for moea runs with different number of RBFs...,  0:00:00.000171\n"
     ]
    },
    {
     "ename": "AttributeError",
     "evalue": "module 'functions_moea_output_plots' has no attribute 'getMetrics'",
     "output_type": "error",
     "traceback": [
      "\u001b[0;31m---------------------------------------------------------------------------\u001b[0m",
      "\u001b[0;31mAttributeError\u001b[0m                            Traceback (most recent call last)",
      "\u001b[0;32m<ipython-input-2-2862a21f4142>\u001b[0m in \u001b[0;36m<module>\u001b[0;34m\u001b[0m\n\u001b[1;32m     22\u001b[0m     \u001b[0mmetrics\u001b[0m\u001b[0;34m[\u001b[0m\u001b[0mstr\u001b[0m\u001b[0;34m(\u001b[0m\u001b[0mnrbf\u001b[0m\u001b[0;34m)\u001b[0m\u001b[0;34m+\u001b[0m\u001b[0;34m'rbf'\u001b[0m\u001b[0;34m]\u001b[0m \u001b[0;34m=\u001b[0m \u001b[0;34m[\u001b[0m\u001b[0;34m]\u001b[0m\u001b[0;34m\u001b[0m\u001b[0;34m\u001b[0m\u001b[0m\n\u001b[1;32m     23\u001b[0m     \u001b[0;32mfor\u001b[0m \u001b[0ms\u001b[0m \u001b[0;32min\u001b[0m \u001b[0mrange\u001b[0m\u001b[0;34m(\u001b[0m\u001b[0;36m1\u001b[0m\u001b[0;34m,\u001b[0m \u001b[0;36m11\u001b[0m\u001b[0;34m)\u001b[0m\u001b[0;34m:\u001b[0m\u001b[0;34m\u001b[0m\u001b[0;34m\u001b[0m\u001b[0m\n\u001b[0;32m---> 24\u001b[0;31m         metrics[str(nrbf)+'rbf'].append(functions_moea_output_plots.getMetrics(dir_moea_output + '4obj_' + str(nrbf) +\n\u001b[0m\u001b[1;32m     25\u001b[0m                                                                               \u001b[0;34m'rbf/metrics/DPS_param150_seedS1_seedB'\u001b[0m \u001b[0;34m+\u001b[0m \u001b[0mstr\u001b[0m\u001b[0;34m(\u001b[0m\u001b[0ms\u001b[0m\u001b[0;34m)\u001b[0m \u001b[0;34m+\u001b[0m \u001b[0;34m'.metrics'\u001b[0m\u001b[0;34m,\u001b[0m\u001b[0;34m\u001b[0m\u001b[0;34m\u001b[0m\u001b[0m\n\u001b[1;32m     26\u001b[0m                                                                               '../../data/optimization_output/4obj_rbf_overall/DPS_4obj_rbf_overall_borg.hypervolume'))\n",
      "\u001b[0;31mAttributeError\u001b[0m: module 'functions_moea_output_plots' has no attribute 'getMetrics'"
     ]
    }
   ],
   "source": [
    "### Project functions ###\n",
    "import functions_moea_output_plots\n",
    "\n",
    "\n",
    "sbn.set_style('white')\n",
    "sbn.set_context('paper', font_scale=1.55)\n",
    "\n",
    "eps = 1e-13\n",
    "startTime = datetime.now()\n",
    "\n",
    "dir_generated_inputs = './../../data/generated_inputs/'\n",
    "dir_moea_output = './../../data/optimization_output/'\n",
    "dir_figs = './../../figures/'\n",
    "\n",
    "# get runtime metrics for moea runs with different number of RBFs (nrbfs)\n",
    "print('Getting runtime metrics for moea runs with different number of RBFs..., ',\n",
    "      datetime.now() - startTime)\n",
    "importlib.reload(functions_moea_output_plots)\n",
    "metrics = {}\n",
    "nrbfs = (1, 2, 3, 4, 8, 12)\n",
    "for nrbf in nrbfs:\n",
    "    metrics[str(nrbf)+'rbf'] = []\n",
    "    for s in range(1, 11):\n",
    "        metrics[str(nrbf)+'rbf'].append(functions_moea_output_plots.getMetrics(dir_moea_output + '4obj_' + str(nrbf) +\n",
    "                                                                              'rbf/metrics/DPS_param150_seedS1_seedB' + str(s) + '.metrics',\n",
    "                                                                              '../../data/optimization_output/4obj_rbf_overall/DPS_4obj_rbf_overall_borg.hypervolume'))"
   ]
  },
  {
   "cell_type": "code",
   "execution_count": null,
   "metadata": {},
   "outputs": [],
   "source": [
    "metrics['1rbf'][0]['Hypervolume']"
   ]
  },
  {
   "cell_type": "code",
   "execution_count": null,
   "metadata": {
    "scrolled": false
   },
   "outputs": [],
   "source": [
    "# ### plot hypervolume for baseline (50 seeds) + sample of 12 sensitivity analysis runs (10 seeds) (fig S4)\n",
    "print('Plotting hypervolume (fig S1)..., ', datetime.now() - startTime)\n",
    "importlib.reload(functions_moea_output_plots)\n",
    "nfe = 150000\n",
    "fe_prints = 100\n",
    "fe_grid = np.arange(0, nfe+1, nfe/fe_prints)\n",
    "nseed = 10\n",
    "functions_moea_output_plots.plot_metrics(dir_figs, metrics, nrbfs, nseed, fe_grid)"
   ]
  },
  {
   "cell_type": "code",
   "execution_count": null,
   "metadata": {
    "scrolled": true
   },
   "outputs": [],
   "source": [
    "### get ref sets\n",
    "importlib.reload(functions_moea_output_plots)\n",
    "formulation = '4obj_2rbf_moreSeeds'\n",
    "ref_dps_4obj_retest = functions_moea_output_plots.getSet(dir_moea_output + formulation + '/DPS_' + formulation + '_borg_retest.resultfile', 4)\n",
    "ref_dps_4obj_retest.head()\n"
   ]
  },
  {
   "cell_type": "code",
   "execution_count": null,
   "metadata": {},
   "outputs": [],
   "source": [
    "### get 3d plot limits\n",
    "importlib.reload(functions_moea_output_plots)\n",
    "lims, lims3d = functions_moea_output_plots.get_plot_limits(ref_dps_4obj_retest, ref_dps_4obj_retest)\n",
    "\n",
    "### 3d plot (4 objectives) of dps vs 2dv formulation\n",
    "# functions_moea_output_plots.plot_formulations_4obj(ref_dps_4obj_retest, ref_dps_4obj_retest, lims3d, dir_figs)\n",
    "\n",
    "### plot min/max marker sizes for use in legend (combine in illustrator)\n",
    "functions_moea_output_plots.plot_marker_size_4obj(ref_dps_4obj_retest, ref_dps_4obj_retest, lims3d, dir_figs)\n"
   ]
  },
  {
   "cell_type": "code",
   "execution_count": null,
   "metadata": {},
   "outputs": [],
   "source": [
    "importlib.reload(functions_moea_output_plots)\n",
    "functions_moea_output_plots.plot_subproblems(ref_dps_4obj_retest, lims3d, dir_moea_output, dir_figs)"
   ]
  }
 ],
 "metadata": {
  "kernelspec": {
   "display_name": "Python 3.6.9 64-bit ('.venv_dps': venv)",
   "language": "python",
   "name": "python36964bitvenvdpsvenv50f79942d15f42238246e42a0cce7025"
  },
  "language_info": {
   "codemirror_mode": {
    "name": "ipython",
    "version": 3
   },
   "file_extension": ".py",
   "mimetype": "text/x-python",
   "name": "python",
   "nbconvert_exporter": "python",
   "pygments_lexer": "ipython3",
   "version": "3.6.9"
  }
 },
 "nbformat": 4,
 "nbformat_minor": 4
}
